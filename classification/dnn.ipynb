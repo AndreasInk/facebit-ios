{
 "metadata": {
  "language_info": {
   "codemirror_mode": {
    "name": "ipython",
    "version": 3
   },
   "file_extension": ".py",
   "mimetype": "text/x-python",
   "name": "python",
   "nbconvert_exporter": "python",
   "pygments_lexer": "ipython3",
   "version": "3.8.5-final"
  },
  "orig_nbformat": 2,
  "kernelspec": {
   "name": "python3",
   "display_name": "Python 3.8.5 64-bit ('smart-ppe': conda)",
   "metadata": {
    "interpreter": {
     "hash": "ebfc23dd56157793abe8cac1db3fa05c2a64cc31687f593f29da3d897184b334"
    }
   }
  }
 },
 "nbformat": 4,
 "nbformat_minor": 2,
 "cells": [
  {
   "cell_type": "code",
   "execution_count": 1,
   "metadata": {},
   "outputs": [
    {
     "output_type": "stream",
     "name": "stderr",
     "text": [
      "WARNING:root:scikit-learn version 0.23.2 is not supported. Minimum required version: 0.17. Maximum required version: 0.19.2. Disabling scikit-learn conversion API.\n",
      "2.3.1\n"
     ]
    }
   ],
   "source": [
    "import tensorflow as tf\n",
    "import coremltools as ct\n",
    "\n",
    "from datetime import datetime, timedelta\n",
    "import pandas as pd\n",
    "import numpy as np\n",
    "\n",
    "import matplotlib.pyplot as plt\n",
    "\n",
    "print(tf.__version__)"
   ]
  },
  {
   "cell_type": "code",
   "execution_count": 2,
   "metadata": {},
   "outputs": [],
   "source": [
    "def normalize(x):\n",
    "    x = 2 * ( (x - np.min(x)) / (np.max(x) - np.min(x)) ) - 1\n",
    "    return x\n",
    "\n",
    "\n",
    "def demean(x):\n",
    "    x = x - np.mean(x)\n",
    "    return x"
   ]
  },
  {
   "cell_type": "code",
   "execution_count": 3,
   "metadata": {
    "tags": []
   },
   "outputs": [
    {
     "output_type": "stream",
     "name": "stdout",
     "text": [
      "['talking/s_2021-02-10 18:34:39.763.npy', 'talking/s_2021-02-10 16:36:38.417.npy', 'cough/s_2021-02-10 22:18:44.719.npy', 'cough/s_2021-02-10 20:53:33.741.npy', 'cough/s_2021-02-10 22:18:17.501.npy', 'cough/s_2021-02-10 20:57:59.617.npy', 'normal_breathing/s_2021-02-10 15:11:17.966.npy', 'normal_breathing/s_2021-02-10 18:12:14.117.npy', 'mask_off/s_2021-02-10 16:24:58.357.npy', 'mask_off/s_2021-02-10 18:27:53.484.npy']\n"
     ]
    }
   ],
   "source": [
    "clss = [0,1,2,4] # mask_off, normal_breathing, talking, cough\n",
    "X_train, Y_train, X_test, Y_test = [], [], [], []\n",
    "\n",
    "\n",
    "data_files = []\n",
    "for root, subdirs, files in os.walk('data/train'):\n",
    "    if len(files) == 0: continue\n",
    "    \n",
    "    for file in files:\n",
    "        data_files.append(f'{root.split(\"/\")[-1]}/{file}')\n",
    "\n",
    "print(data_files)\n",
    "\n",
    "\n",
    "for file in data_files:\n",
    "    train = np.load(f'data/train/{file}')\n",
    "    test = np.load(f'data/test/{file}')\n",
    "\n",
    "    # normalize sample\n",
    "    for s in train:\n",
    "        sample = np.vstack((\n",
    "                demean(s[0]),\n",
    "                demean(s[1])\n",
    "            ))\n",
    "        X_train.append(sample)\n",
    "        if 'mask_off' in file: Y_train.append(0)\n",
    "        elif 'normal_breathing' in file: Y_train.append(1)\n",
    "        elif 'talking' in file: Y_train.append(2)\n",
    "        elif 'cough' in file: Y_train.append(3)\n",
    "\n",
    "    for s in test:\n",
    "        X_test.append(\n",
    "            np.vstack((\n",
    "                demean(s[0]),\n",
    "                demean(s[1])\n",
    "            ))\n",
    "        )\n",
    "        if 'mask_off' in file: Y_test.append(0)\n",
    "        elif 'normal_breathing' in file: Y_test.append(1)\n",
    "        elif 'talking' in file: Y_test.append(2)\n",
    "        elif 'cough' in file: Y_test.append(3)\n",
    "    \n",
    "X_train, Y_train, X_test, Y_test = np.array(X_train, dtype='float64'), np.array(Y_train, dtype='float64'), np.array(X_test, dtype='float64'), np.array(Y_test, dtype='float64')"
   ]
  },
  {
   "cell_type": "code",
   "execution_count": 11,
   "metadata": {},
   "outputs": [],
   "source": [
    "model = tf.keras.Sequential([\n",
    "    tf.keras.layers.Flatten(input_shape=(2,51)),\n",
    "    tf.keras.layers.Dense(16, activation='relu'),\n",
    "    tf.keras.layers.Dense(4)\n",
    "])\n",
    "model.compile(\n",
    "    optimizer='adam',\n",
    "    loss=tf.keras.losses.SparseCategoricalCrossentropy(from_logits=True ),\n",
    "    metrics=['accuracy']\n",
    ")"
   ]
  },
  {
   "cell_type": "code",
   "execution_count": 12,
   "metadata": {},
   "outputs": [
    {
     "output_type": "stream",
     "name": "stdout",
     "text": [
      "Model: \"sequential_1\"\n_________________________________________________________________\nLayer (type)                 Output Shape              Param #   \n=================================================================\nflatten_1 (Flatten)          (None, 102)               0         \n_________________________________________________________________\ndense_2 (Dense)              (None, 16)                1648      \n_________________________________________________________________\ndense_3 (Dense)              (None, 4)                 68        \n=================================================================\nTotal params: 1,716\nTrainable params: 1,716\nNon-trainable params: 0\n_________________________________________________________________\n"
     ]
    }
   ],
   "source": [
    "model.summary()"
   ]
  },
  {
   "cell_type": "code",
   "execution_count": 13,
   "metadata": {
    "tags": []
   },
   "outputs": [
    {
     "output_type": "stream",
     "name": "stdout",
     "text": [
      "Epoch 1/100\n",
      "1/1 [==============================] - 0s 1ms/step - loss: 1.4798 - accuracy: 0.2459\n",
      "Epoch 2/100\n",
      "1/1 [==============================] - 0s 1ms/step - loss: 1.4728 - accuracy: 0.2511\n",
      "Epoch 3/100\n",
      "1/1 [==============================] - 0s 1ms/step - loss: 1.4660 - accuracy: 0.2622\n",
      "Epoch 4/100\n",
      "1/1 [==============================] - 0s 656us/step - loss: 1.4594 - accuracy: 0.2754\n",
      "Epoch 5/100\n",
      "1/1 [==============================] - 0s 765us/step - loss: 1.4530 - accuracy: 0.2828\n",
      "Epoch 6/100\n",
      "1/1 [==============================] - 0s 823us/step - loss: 1.4466 - accuracy: 0.2865\n",
      "Epoch 7/100\n",
      "1/1 [==============================] - 0s 1ms/step - loss: 1.4404 - accuracy: 0.2909\n",
      "Epoch 8/100\n",
      "1/1 [==============================] - 0s 756us/step - loss: 1.4344 - accuracy: 0.2975\n",
      "Epoch 9/100\n",
      "1/1 [==============================] - 0s 693us/step - loss: 1.4285 - accuracy: 0.2997\n",
      "Epoch 10/100\n",
      "1/1 [==============================] - 0s 723us/step - loss: 1.4227 - accuracy: 0.3019\n",
      "Epoch 11/100\n",
      "1/1 [==============================] - 0s 788us/step - loss: 1.4171 - accuracy: 0.3012\n",
      "Epoch 12/100\n",
      "1/1 [==============================] - 0s 594us/step - loss: 1.4116 - accuracy: 0.3034\n",
      "Epoch 13/100\n",
      "1/1 [==============================] - 0s 966us/step - loss: 1.4062 - accuracy: 0.3071\n",
      "Epoch 14/100\n",
      "1/1 [==============================] - 0s 767us/step - loss: 1.4009 - accuracy: 0.3071\n",
      "Epoch 15/100\n",
      "1/1 [==============================] - 0s 760us/step - loss: 1.3958 - accuracy: 0.3100\n",
      "Epoch 16/100\n",
      "1/1 [==============================] - 0s 642us/step - loss: 1.3908 - accuracy: 0.3144\n",
      "Epoch 17/100\n",
      "1/1 [==============================] - 0s 763us/step - loss: 1.3859 - accuracy: 0.3159\n",
      "Epoch 18/100\n",
      "1/1 [==============================] - 0s 581us/step - loss: 1.3810 - accuracy: 0.3159\n",
      "Epoch 19/100\n",
      "1/1 [==============================] - 0s 826us/step - loss: 1.3762 - accuracy: 0.3196\n",
      "Epoch 20/100\n",
      "1/1 [==============================] - 0s 808us/step - loss: 1.3715 - accuracy: 0.3203\n",
      "Epoch 21/100\n",
      "1/1 [==============================] - 0s 747us/step - loss: 1.3668 - accuracy: 0.3240\n",
      "Epoch 22/100\n",
      "1/1 [==============================] - 0s 1ms/step - loss: 1.3622 - accuracy: 0.3262\n",
      "Epoch 23/100\n",
      "1/1 [==============================] - 0s 1ms/step - loss: 1.3576 - accuracy: 0.3299\n",
      "Epoch 24/100\n",
      "1/1 [==============================] - 0s 1ms/step - loss: 1.3531 - accuracy: 0.3424\n",
      "Epoch 25/100\n",
      "1/1 [==============================] - 0s 816us/step - loss: 1.3487 - accuracy: 0.3498\n",
      "Epoch 26/100\n",
      "1/1 [==============================] - 0s 955us/step - loss: 1.3444 - accuracy: 0.3557\n",
      "Epoch 27/100\n",
      "1/1 [==============================] - 0s 994us/step - loss: 1.3401 - accuracy: 0.3586\n",
      "Epoch 28/100\n",
      "1/1 [==============================] - 0s 700us/step - loss: 1.3359 - accuracy: 0.3608\n",
      "Epoch 29/100\n",
      "1/1 [==============================] - 0s 688us/step - loss: 1.3317 - accuracy: 0.3660\n",
      "Epoch 30/100\n",
      "1/1 [==============================] - 0s 782us/step - loss: 1.3276 - accuracy: 0.3689\n",
      "Epoch 31/100\n",
      "1/1 [==============================] - 0s 931us/step - loss: 1.3235 - accuracy: 0.3756\n",
      "Epoch 32/100\n",
      "1/1 [==============================] - 0s 726us/step - loss: 1.3196 - accuracy: 0.3770\n",
      "Epoch 33/100\n",
      "1/1 [==============================] - 0s 671us/step - loss: 1.3156 - accuracy: 0.3800\n",
      "Epoch 34/100\n",
      "1/1 [==============================] - 0s 758us/step - loss: 1.3117 - accuracy: 0.3814\n",
      "Epoch 35/100\n",
      "1/1 [==============================] - 0s 771us/step - loss: 1.3079 - accuracy: 0.3822\n",
      "Epoch 36/100\n",
      "1/1 [==============================] - 0s 901us/step - loss: 1.3041 - accuracy: 0.3859\n",
      "Epoch 37/100\n",
      "1/1 [==============================] - 0s 799us/step - loss: 1.3003 - accuracy: 0.3873\n",
      "Epoch 38/100\n",
      "1/1 [==============================] - 0s 774us/step - loss: 1.2966 - accuracy: 0.3866\n",
      "Epoch 39/100\n",
      "1/1 [==============================] - 0s 699us/step - loss: 1.2929 - accuracy: 0.3903\n",
      "Epoch 40/100\n",
      "1/1 [==============================] - 0s 1ms/step - loss: 1.2893 - accuracy: 0.3925\n",
      "Epoch 41/100\n",
      "1/1 [==============================] - 0s 882us/step - loss: 1.2857 - accuracy: 0.3940\n",
      "Epoch 42/100\n",
      "1/1 [==============================] - 0s 807us/step - loss: 1.2821 - accuracy: 0.3991\n",
      "Epoch 43/100\n",
      "1/1 [==============================] - 0s 736us/step - loss: 1.2785 - accuracy: 0.4006\n",
      "Epoch 44/100\n",
      "1/1 [==============================] - 0s 802us/step - loss: 1.2750 - accuracy: 0.4013\n",
      "Epoch 45/100\n",
      "1/1 [==============================] - 0s 819us/step - loss: 1.2715 - accuracy: 0.4013\n",
      "Epoch 46/100\n",
      "1/1 [==============================] - 0s 806us/step - loss: 1.2680 - accuracy: 0.4043\n",
      "Epoch 47/100\n",
      "1/1 [==============================] - 0s 693us/step - loss: 1.2646 - accuracy: 0.4080\n",
      "Epoch 48/100\n",
      "1/1 [==============================] - 0s 674us/step - loss: 1.2611 - accuracy: 0.4109\n",
      "Epoch 49/100\n",
      "1/1 [==============================] - 0s 711us/step - loss: 1.2577 - accuracy: 0.4153\n",
      "Epoch 50/100\n",
      "1/1 [==============================] - 0s 1ms/step - loss: 1.2544 - accuracy: 0.4161\n",
      "Epoch 51/100\n",
      "1/1 [==============================] - 0s 723us/step - loss: 1.2510 - accuracy: 0.4205\n",
      "Epoch 52/100\n",
      "1/1 [==============================] - 0s 790us/step - loss: 1.2476 - accuracy: 0.4242\n",
      "Epoch 53/100\n",
      "1/1 [==============================] - 0s 833us/step - loss: 1.2443 - accuracy: 0.4256\n",
      "Epoch 54/100\n",
      "1/1 [==============================] - 0s 578us/step - loss: 1.2409 - accuracy: 0.4286\n",
      "Epoch 55/100\n",
      "1/1 [==============================] - 0s 835us/step - loss: 1.2376 - accuracy: 0.4300\n",
      "Epoch 56/100\n",
      "1/1 [==============================] - 0s 812us/step - loss: 1.2342 - accuracy: 0.4330\n",
      "Epoch 57/100\n",
      "1/1 [==============================] - 0s 1ms/step - loss: 1.2309 - accuracy: 0.4367\n",
      "Epoch 58/100\n",
      "1/1 [==============================] - 0s 1ms/step - loss: 1.2275 - accuracy: 0.4389\n",
      "Epoch 59/100\n",
      "1/1 [==============================] - 0s 1ms/step - loss: 1.2242 - accuracy: 0.4404\n",
      "Epoch 60/100\n",
      "1/1 [==============================] - 0s 896us/step - loss: 1.2209 - accuracy: 0.4440\n",
      "Epoch 61/100\n",
      "1/1 [==============================] - 0s 930us/step - loss: 1.2175 - accuracy: 0.4477\n",
      "Epoch 62/100\n",
      "1/1 [==============================] - 0s 712us/step - loss: 1.2142 - accuracy: 0.4551\n",
      "Epoch 63/100\n",
      "1/1 [==============================] - 0s 831us/step - loss: 1.2109 - accuracy: 0.4580\n",
      "Epoch 64/100\n",
      "1/1 [==============================] - 0s 2ms/step - loss: 1.2075 - accuracy: 0.4610\n",
      "Epoch 65/100\n",
      "1/1 [==============================] - 0s 739us/step - loss: 1.2042 - accuracy: 0.4669\n",
      "Epoch 66/100\n",
      "1/1 [==============================] - 0s 852us/step - loss: 1.2008 - accuracy: 0.4698\n",
      "Epoch 67/100\n",
      "1/1 [==============================] - 0s 820us/step - loss: 1.1975 - accuracy: 0.4786\n",
      "Epoch 68/100\n",
      "1/1 [==============================] - 0s 739us/step - loss: 1.1942 - accuracy: 0.4860\n",
      "Epoch 69/100\n",
      "1/1 [==============================] - 0s 3ms/step - loss: 1.1908 - accuracy: 0.4912\n",
      "Epoch 70/100\n",
      "1/1 [==============================] - 0s 5ms/step - loss: 1.1875 - accuracy: 0.4956\n",
      "Epoch 71/100\n",
      "1/1 [==============================] - 0s 914us/step - loss: 1.1841 - accuracy: 0.5007\n",
      "Epoch 72/100\n",
      "1/1 [==============================] - 0s 880us/step - loss: 1.1807 - accuracy: 0.5074\n",
      "Epoch 73/100\n",
      "1/1 [==============================] - 0s 832us/step - loss: 1.1773 - accuracy: 0.5118\n",
      "Epoch 74/100\n",
      "1/1 [==============================] - 0s 813us/step - loss: 1.1740 - accuracy: 0.5184\n",
      "Epoch 75/100\n",
      "1/1 [==============================] - 0s 1ms/step - loss: 1.1706 - accuracy: 0.5243\n",
      "Epoch 76/100\n",
      "1/1 [==============================] - 0s 2ms/step - loss: 1.1672 - accuracy: 0.5309\n",
      "Epoch 77/100\n",
      "1/1 [==============================] - 0s 709us/step - loss: 1.1638 - accuracy: 0.5383\n",
      "Epoch 78/100\n",
      "1/1 [==============================] - 0s 924us/step - loss: 1.1605 - accuracy: 0.5464\n",
      "Epoch 79/100\n",
      "1/1 [==============================] - 0s 744us/step - loss: 1.1571 - accuracy: 0.5560\n",
      "Epoch 80/100\n",
      "1/1 [==============================] - 0s 693us/step - loss: 1.1538 - accuracy: 0.5611\n",
      "Epoch 81/100\n",
      "1/1 [==============================] - 0s 1ms/step - loss: 1.1505 - accuracy: 0.5736\n",
      "Epoch 82/100\n",
      "1/1 [==============================] - 0s 2ms/step - loss: 1.1472 - accuracy: 0.5825\n",
      "Epoch 83/100\n",
      "1/1 [==============================] - 0s 1ms/step - loss: 1.1439 - accuracy: 0.5891\n",
      "Epoch 84/100\n",
      "1/1 [==============================] - 0s 1ms/step - loss: 1.1406 - accuracy: 0.5979\n",
      "Epoch 85/100\n",
      "1/1 [==============================] - 0s 1ms/step - loss: 1.1373 - accuracy: 0.6024\n",
      "Epoch 86/100\n",
      "1/1 [==============================] - 0s 825us/step - loss: 1.1341 - accuracy: 0.6090\n",
      "Epoch 87/100\n",
      "1/1 [==============================] - 0s 880us/step - loss: 1.1308 - accuracy: 0.6186\n",
      "Epoch 88/100\n",
      "1/1 [==============================] - 0s 755us/step - loss: 1.1276 - accuracy: 0.6244\n",
      "Epoch 89/100\n",
      "1/1 [==============================] - 0s 690us/step - loss: 1.1244 - accuracy: 0.6296\n",
      "Epoch 90/100\n",
      "1/1 [==============================] - 0s 723us/step - loss: 1.1212 - accuracy: 0.6414\n",
      "Epoch 91/100\n",
      "1/1 [==============================] - 0s 1ms/step - loss: 1.1180 - accuracy: 0.6458\n",
      "Epoch 92/100\n",
      "1/1 [==============================] - 0s 991us/step - loss: 1.1148 - accuracy: 0.6591\n",
      "Epoch 93/100\n",
      "1/1 [==============================] - 0s 2ms/step - loss: 1.1117 - accuracy: 0.6694\n",
      "Epoch 94/100\n",
      "1/1 [==============================] - 0s 1ms/step - loss: 1.1085 - accuracy: 0.6789\n",
      "Epoch 95/100\n",
      "1/1 [==============================] - 0s 1ms/step - loss: 1.1054 - accuracy: 0.6834\n",
      "Epoch 96/100\n",
      "1/1 [==============================] - 0s 1ms/step - loss: 1.1023 - accuracy: 0.6892\n",
      "Epoch 97/100\n",
      "1/1 [==============================] - 0s 1ms/step - loss: 1.0992 - accuracy: 0.6973\n",
      "Epoch 98/100\n",
      "1/1 [==============================] - 0s 1ms/step - loss: 1.0961 - accuracy: 0.7010\n",
      "Epoch 99/100\n",
      "1/1 [==============================] - 0s 1ms/step - loss: 1.0930 - accuracy: 0.7084\n",
      "Epoch 100/100\n",
      "1/1 [==============================] - 0s 1ms/step - loss: 1.0900 - accuracy: 0.7128\n"
     ]
    },
    {
     "output_type": "execute_result",
     "data": {
      "text/plain": [
       "<tensorflow.python.keras.callbacks.History at 0x7f957b60aac0>"
      ]
     },
     "metadata": {},
     "execution_count": 13
    }
   ],
   "source": [
    "model.fit(np.nan_to_num(X_train), Y_train, epochs=100, batch_size=len(X_train))"
   ]
  },
  {
   "cell_type": "code",
   "execution_count": 8,
   "metadata": {},
   "outputs": [
    {
     "output_type": "stream",
     "name": "stdout",
     "text": [
      "18/18 - 0s - loss: 0.8177 - accuracy: 0.9219\n",
      "\n",
      "Test accuracy: 0.921875\n"
     ]
    }
   ],
   "source": [
    "test_loss, test_acc = model.evaluate(np.nan_to_num(X_test),  Y_test, verbose=2)\n",
    "print('\\nTest accuracy:', test_acc)"
   ]
  },
  {
   "cell_type": "code",
   "execution_count": 9,
   "metadata": {},
   "outputs": [
    {
     "output_type": "stream",
     "name": "stderr",
     "text": [
      "Running TensorFlow Graph Passes: 100%|██████████| 5/5 [00:00<00:00, 30.70 passes/s]\n",
      "Converting Frontend ==> MIL Ops: 100%|██████████| 13/13 [00:00<00:00, 265.83 ops/s]\n",
      "Running MIL optimization passes: 100%|██████████| 18/18 [00:00<00:00, 1986.78 passes/s]\n",
      "Translating MIL ==> MLModel Ops: 100%|██████████| 9/9 [00:00<00:00, 5101.87 ops/s]\n"
     ]
    }
   ],
   "source": [
    "model.save('simple_nn')\n",
    "mlmodel = ct.convert('simple_nn') "
   ]
  },
  {
   "cell_type": "code",
   "execution_count": 10,
   "metadata": {},
   "outputs": [],
   "source": [
    "mlmodel.save('simple_nn.mlmodel')"
   ]
  },
  {
   "cell_type": "code",
   "execution_count": null,
   "metadata": {},
   "outputs": [],
   "source": []
  }
 ]
}